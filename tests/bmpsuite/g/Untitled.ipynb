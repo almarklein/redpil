{
 "cells": [
  {
   "cell_type": "code",
   "execution_count": 2,
   "metadata": {},
   "outputs": [
    {
     "name": "stdout",
     "output_type": "stream",
     "text": [
      "[[ True False  True ... False  True False]\n",
      " [False False False ...  True False False]\n",
      " [ True False  True ... False  True False]\n",
      " ...\n",
      " [False False False ... False False False]\n",
      " [False False False ... False  True False]\n",
      " [False False False ... False False False]]\n",
      "[[ True False  True ...  True False  True]\n",
      " [False False False ... False  True False]\n",
      " [ True False  True ...  True False  True]\n",
      " ...\n",
      " [False False False ... False False False]\n",
      " [False False False ... False False  True]\n",
      " [False False False ... False False False]]\n"
     ]
    },
    {
     "data": {
      "image/png": "[encoded data removed]",
      "text/plain": [
       "<Figure size 432x288 with 1 Axes>"
      ]
     },
     "metadata": {
      "needs_background": "light"
     },
     "output_type": "display_data"
    }
   ],
   "source": [
    "import numpy as np\n",
    "from redpil.bmp import imread\n",
    "from PIL import Image\n",
    "image_pil = np.asarray(Image.open('pal1.bmp'))\n",
    "image = imread('pal1.bmp')\n",
    "print(image)\n",
    "print(image_pil)\n",
    "from matplotlib import pyplot\n",
    "pyplot.imshow(image)\n",
    "pyplot.show()"
   ]
  },
  {
   "cell_type": "code",
   "execution_count": null,
   "metadata": {},
   "outputs": [],
   "source": []
  }
 ],
 "metadata": {
  "kernelspec": {
   "display_name": "Python 3",
   "language": "python",
   "name": "python3"
  },
  "language_info": {
   "codemirror_mode": {
    "name": "ipython",
    "version": 3
   },
   "file_extension": ".py",
   "mimetype": "text/x-python",
   "name": "python",
   "nbconvert_exporter": "python",
   "pygments_lexer": "ipython3",
   "version": "3.6.6"
  }
 },
 "nbformat": 4,
 "nbformat_minor": 2
}
